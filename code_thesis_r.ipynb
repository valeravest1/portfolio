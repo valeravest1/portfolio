{
 "cells": [
  {
   "cell_type": "markdown",
   "id": "795f973e",
   "metadata": {},
   "source": [
    "# Complexity in complementation - Code for the propject\n",
    "This Notebook contains the code utilized in the Thesis project 'Complexity in Complementation'. The language is 'R'.The code is shown in chronological order, starting with the data preprocessing and finishing with the graphic representation of the results of the statistical experiments performed.\n",
    "This experiment is part of the thesis project 'Exploring Complementation Choices in Eighteenth-Century Late Modern English: A Corpus Study', part of the bigger project 'Complexity in Complementation'lead by Peter Petré, part of the University of Antwerp."
   ]
  },
  {
   "cell_type": "markdown",
   "id": "25c32cf1",
   "metadata": {},
   "source": [
    "## 0 - Importing libraries\n",
    "\n",
    "Before starting any preprocessing is necessary to import the libraries that will be further used during all the analysis."
   ]
  },
  {
   "cell_type": "code",
   "execution_count": null,
   "id": "731463a3",
   "metadata": {},
   "outputs": [],
   "source": [
    "#library(grid)\n",
    "library(party)\n",
    "#library(rattle)\n",
    "library(Hmisc)\n",
    "#library(pROC)\n",
    "#library(MLmetrics)\n",
    "library(varImp)\n",
    "#library(caret)\n",
    "library(dplyr)\n",
    "#library(ROSE)\n",
    "library(ggplot2)"
   ]
  },
  {
   "cell_type": "markdown",
   "id": "feda0d24",
   "metadata": {},
   "source": [
    "### 1 - Preprocessing"
   ]
  },
  {
   "cell_type": "code",
   "execution_count": null,
   "id": "9e064766",
   "metadata": {},
   "outputs": [],
   "source": [
    "#Loading dataset and defining names of columns\n",
    "df = read.delim('C:/Users/valer/OneDrive/Escritorio/Thesis/new/Ravest_data_20233006_withoutextrapositions.csv', sep=';')\n",
    "df1 = df[c('voice', 'anim', 'neg', 'main','cc_means', 'complementation_cxn', 'lemma', 'denote', 'length_of_clause', 'author','authorid')]"
   ]
  },
  {
   "cell_type": "code",
   "execution_count": null,
   "id": "71117462",
   "metadata": {},
   "outputs": [],
   "source": [
    "#Renaming variables fr better readability\n",
    "df1$complementation_cxn[df1$complementation_cxn == \"0-complementizer\"] <- \"b\"\n",
    "df1$complementation_cxn[df1$complementation_cxn == \"ing-cc\"] <- \"d\"\n",
    "df1$complementation_cxn[df1$complementation_cxn == \"that-clause\"] <- \"a\"\n",
    "df1$complementation_cxn[df1$complementation_cxn == \"to-infinitive\"] <- \"c\""
   ]
  },
  {
   "cell_type": "code",
   "execution_count": null,
   "id": "f5df056a",
   "metadata": {},
   "outputs": [],
   "source": [
    "#Subsetting per author\n",
    "print(table(df1$author))"
   ]
  },
  {
   "cell_type": "code",
   "execution_count": null,
   "id": "a6a4c21f",
   "metadata": {},
   "outputs": [],
   "source": [
    "   Berkeley, George      Boswell, James       Burke, Edmund      Colman, George \n",
    "                 30                   9                 102                  55 \n",
    "Cumberland, Richard     Dibdin, Charles      Gibbon, Edward     Hayley, William \n",
    "                108                  92                  55                  14 \n",
    "    Johnson, Samuel     Pinkerton, John     Pope, Alexander  Richardson, Samuel \n",
    "                  9                  32                  32                 227 \n",
    "      Trusler, John      Warton, Thomas \n",
    "                 69                  25 \n",
    " \n",
    "#>50 out: Berkeley, Boswell, Hayley, Johnson, Pinkerton, Pope, Warton\n",
    "# Further in the analyses we will leave out those authors with a frequency lower to 50, since the sample is not representative"
   ]
  },
  {
   "cell_type": "code",
   "execution_count": null,
   "id": "efe8186d",
   "metadata": {},
   "outputs": [],
   "source": [
    "df1 <- transform(df1,authorFrequency=ave(seq(nrow(df1)),author,FUN=length))"
   ]
  },
  {
   "cell_type": "code",
   "execution_count": null,
   "id": "7be2834b",
   "metadata": {},
   "outputs": [],
   "source": [
    "#Replacing names for numbers to improve readibility\n",
    "df1$author[df1$author=='Berkeley, George'] <- \"1\"\n",
    "df1$author[df1$author=='Boswell, James'] <- \"2\"\n",
    "df1$author[df1$author=='Burke, Edmund'] <- \"3\"\n",
    "df1$author[df1$author=='Colman, George'] <- \"4\"\n",
    "df1$author[df1$author=='Cumberland, Richard'] <- \"5\"\n",
    "df1$author[df1$author=='Dibdin, Charles'] <- \"6\"\n",
    "df1$author[df1$author=='Gibbon, Edward'] <- \"7\"\n",
    "df1$author[df1$author=='Hayley, William'] <- \"8\"\n",
    "df1$author[df1$author=='Johnson, Samuel'] <- \"9\"\n",
    "df1$author[df1$author=='Pinkerton, John'] <- \"10\"\n",
    "df1$author[df1$author=='Pope, Alexander'] <- \"11\"\n",
    "df1$author[df1$author=='Richardson, Samuel'] <- \"12\"\n",
    "df1$author[df1$author=='Trusler, John'] <- \"13\"\n",
    "df1$author[df1$author=='Warton, Thomas'] <- \"14\""
   ]
  },
  {
   "cell_type": "code",
   "execution_count": null,
   "id": "d88e80fd",
   "metadata": {},
   "outputs": [],
   "source": [
    "#Changing the datatypes to factors\n",
    "columns <- c(\"voice\", \"anim\", \"neg\", \"main\", \"cc_means\", \"complementation_cxn\", \"lemma\", \"denote\", \"author\", \"authorid\")\n",
    "\n",
    "for (col in columns) {\n",
    "  df1[[col]] <- as.factor(df1[[col]])\n",
    "}"
   ]
  },
  {
   "cell_type": "code",
   "execution_count": null,
   "id": "0b38053d",
   "metadata": {},
   "outputs": [],
   "source": [
    "#We only select few subjects to participate in the sample due of representativity\n",
    "\n",
    "#berkeley <- df1[ which(df1$author=='1'), ]\n",
    "#boswell <- df1[ which(df1$author=='2'), ]\n",
    "burke <- df1[ which(df1$author=='3'), ]\n",
    "colman <- df1[ which(df1$author=='4'), ]\n",
    "cumberland <- df1[ which(df1$author=='5'), ]\n",
    "dibdin <- df1[ which(df1$author=='6'), ]\n",
    "gibbon <- df1[ which(df1$author=='7'), ]\n",
    "#hayley <- df1[ which(df1$author=='8'), ]\n",
    "#johnson <- df1[ which(df1$author=='9'), ]\n",
    "#pinkerton <- df1[ which(df1$author=='10'), ]\n",
    "#pope <- df1[ which(df1$author=='11'), ]\n",
    "richardson <- df1[ which(df1$author=='12'), ]\n",
    "trusler <- df1[ which(df1$author=='13'), ]\n",
    "#warton <- df1[ which(df1$author=='14'), ]"
   ]
  },
  {
   "cell_type": "markdown",
   "id": "cd703057",
   "metadata": {},
   "source": [
    "Data is ready to perform the statistical analysis"
   ]
  },
  {
   "cell_type": "markdown",
   "id": "9630ec40",
   "metadata": {},
   "source": [
    "### 3- Decission tree and Random forests\n",
    "We will apply the models to the total group and to each subject."
   ]
  },
  {
   "cell_type": "code",
   "execution_count": null,
   "id": "76bb8d71",
   "metadata": {},
   "outputs": [],
   "source": [
    "#Preparing for the plot, defining axes and colors for the features.\n",
    "ggplot(df1, aes(x = author, y = authorFrequency )) +\n",
    "  geom_bar(\n",
    "    aes(complementation = complementation_cxn, fill = complementation_cxn),\n",
    "    stat = \"identity\", position = position_stack()\n",
    "    ) +\n",
    "  scale_color_manual(values = c(\"#0000FF\", \"#800080\", \"#FFFF00\", \"#FFA500\"))+\n",
    "  scale_fill_manual(values = c(\"#0000FF\", \"#800080\", \"#FFFF00\", \"#FFA500\"))\n",
    "\n",
    "\n"
   ]
  },
  {
   "cell_type": "code",
   "execution_count": null,
   "id": "83ae05ab",
   "metadata": {},
   "outputs": [],
   "source": [
    "#Making and plotting the tree\n",
    "tree_everyone <- ctree(complementation_cxn ~ voice + anim + neg + main + cc_means + author + lemma + denote + length_of_clause, data=df1)\n",
    "plot(tree_everyone)"
   ]
  },
  {
   "attachments": {
    "1-4.png": {
     "image/png": "[encoded data removed]"
    }
   },
   "cell_type": "markdown",
   "id": "2a6a3fd6",
   "metadata": {},
   "source": [
    "![1-4.png](attachment:1-4.png)"
   ]
  },
  {
   "cell_type": "code",
   "execution_count": null,
   "id": "9c267b75",
   "metadata": {},
   "outputs": [],
   "source": [
    "#Making and plotting the forest\n",
    "forest <- cforest(complementation_cxn ~ voice + anim + neg + main + cc_means + author + lemma + denote + length_of_clause, data=df1,\n",
    "                        controls=cforest_control(mtry = 7, ntree=1000))\n",
    "var <- varImp(forest)\n",
    "var_ordered <- var %>% arrange(desc(Overall))\n",
    "print(var_ordered)\n",
    "\n"
   ]
  },
  {
   "cell_type": "code",
   "execution_count": null,
   "id": "30953350",
   "metadata": {},
   "outputs": [],
   "source": [
    "                     Overall\n",
    "denote           0.154117692\n",
    "lemma            0.083494605\n",
    "author           0.074985385\n",
    "cc_means         0.045538596\n",
    "length_of_clause 0.007584891\n",
    "main             0.006093717\n",
    "anim             0.003794082\n",
    "neg              0.001751505\n",
    "voice            0.001357025\n",
    "\n",
    "\n",
    "ggplot(var_ordered, aes(x = reorder(Variable, Overall), y = Overall)) +\n",
    "  geom_bar(stat = \"identity\", fill = \"blue\") +\n",
    "  coord_flip() +\n",
    "  labs(x = \"Variable\", y = \"Importance\", title = \"Variable Importance in Random Forest\")"
   ]
  },
  {
   "cell_type": "code",
   "execution_count": null,
   "id": "b31c6a00",
   "metadata": {},
   "outputs": [],
   "source": [
    "#### Everyone - forget"
   ]
  },
  {
   "cell_type": "code",
   "execution_count": null,
   "id": "23d23e12",
   "metadata": {},
   "outputs": [],
   "source": [
    "forget <- df1[ which(df1$lemma=='forget'), ]\n",
    "tree <- ctree(complementation_cxn ~ voice + anim + neg + main + cc_means + author + denote + length_of_clause, data=forget)\n",
    "plot(tree)"
   ]
  },
  {
   "attachments": {
    "1a-3.png": {
     "image/png": "[encoded data removed]"
    }
   },
   "cell_type": "markdown",
   "id": "bf6f1a52",
   "metadata": {},
   "source": [
    "![1a-3.png](attachment:1a-3.png)"
   ]
  },
  {
   "cell_type": "code",
   "execution_count": null,
   "id": "21403e43",
   "metadata": {},
   "outputs": [],
   "source": [
    "forest <- cforest(complementation_cxn ~ voice + anim + neg + main + cc_means + author + denote + length_of_clause, data=forget,\n",
    "                        controls=cforest_control(mtry = 7, ntree=1000))\n",
    "var <- varImp(forest)\n",
    "var_ordered <- var %>% arrange(desc(Overall))\n",
    "print(var_ordered)"
   ]
  },
  {
   "cell_type": "code",
   "execution_count": null,
   "id": "0ccf14f5",
   "metadata": {},
   "outputs": [],
   "source": [
    "                      Overall\n",
    "denote           0.2141667719\n",
    "cc_means         0.0999718048\n",
    "author           0.0097461714\n",
    "length_of_clause 0.0062863297\n",
    "neg              0.0054672756\n",
    "main             0.0027665725\n",
    "voice            0.0001460346\n",
    "anim             0.0001201845\n"
   ]
  },
  {
   "cell_type": "code",
   "execution_count": null,
   "id": "ada12183",
   "metadata": {},
   "outputs": [],
   "source": [
    "#### Everyone - remember"
   ]
  },
  {
   "cell_type": "code",
   "execution_count": null,
   "id": "6b168152",
   "metadata": {},
   "outputs": [],
   "source": [
    "remember <- df1[ which(df1$lemma=='remember'), ]\n",
    "tree <- ctree(complementation_cxn ~ voice + anim + neg + main + cc_means + author + denote + length_of_clause, data=remember)\n",
    "plot(tree)"
   ]
  },
  {
   "attachments": {
    "1b-3.png": {
     "image/png": "[encoded data removed]"
    }
   },
   "cell_type": "markdown",
   "id": "4a599e52",
   "metadata": {},
   "source": [
    "![1b-3.png](attachment:1b-3.png)"
   ]
  },
  {
   "cell_type": "code",
   "execution_count": null,
   "id": "6c7e8eba",
   "metadata": {},
   "outputs": [],
   "source": [
    "forest <- cforest(complementation_cxn ~ voice + anim + neg + main + cc_means + author + denote + length_of_clause, data=remember,\n",
    "                        controls=cforest_control(mtry = 7, ntree=1000))\n",
    "var <- varImp(forest)\n",
    "var_ordered <- var %>% arrange(desc(Overall))\n",
    "print(var_ordered)"
   ]
  },
  {
   "cell_type": "code",
   "execution_count": null,
   "id": "b8f6ea48",
   "metadata": {},
   "outputs": [],
   "source": [
    "                       Overall\n",
    "author            0.1259456853\n",
    "denote            0.0668620755\n",
    "length_of_clause  0.0082416637\n",
    "cc_means          0.0079211469\n",
    "anim              0.0058424287\n",
    "main              0.0056684230\n",
    "voice             0.0020996652\n",
    "neg              -0.0009280456\n"
   ]
  },
  {
   "cell_type": "markdown",
   "id": "f3aa157f",
   "metadata": {},
   "source": [
    "### Burke"
   ]
  },
  {
   "cell_type": "code",
   "execution_count": null,
   "id": "5b658310",
   "metadata": {},
   "outputs": [],
   "source": [
    "tree <- ctree(complementation_cxn ~ voice + anim + neg + main + cc_means + lemma + denote + length_of_clause, data=burke)\n",
    "plot(tree)"
   ]
  },
  {
   "attachments": {
    "2-2.png": {
     "image/png": "[encoded data removed]"
    }
   },
   "cell_type": "markdown",
   "id": "3e779e7c",
   "metadata": {},
   "source": [
    "![2-2.png](attachment:2-2.png)"
   ]
  },
  {
   "cell_type": "code",
   "execution_count": null,
   "id": "d21bc334",
   "metadata": {},
   "outputs": [],
   "source": [
    "forest <- cforest(complementation_cxn ~ voice + anim + neg + main + cc_means + denote + lemma + length_of_clause, data=burke,\n",
    "                        controls=cforest_control(mtry = 7, ntree=1000))\n",
    "var <- varImp(forest)\n",
    "var_ordered <- var %>% arrange(desc(Overall))\n",
    "print(var_ordered)"
   ]
  },
  {
   "cell_type": "code",
   "execution_count": null,
   "id": "2dc3666f",
   "metadata": {},
   "outputs": [],
   "source": [
    "                       Overall\n",
    "denote            7.326614e-02\n",
    "cc_means          2.223398e-02\n",
    "length_of_clause  5.395270e-03\n",
    "main              5.099566e-03\n",
    "voice             3.571429e-05\n",
    "neg              -2.496203e-05\n",
    "anim             -2.732385e-05\n",
    "lemma            -9.657650e-04\n"
   ]
  },
  {
   "cell_type": "code",
   "execution_count": null,
   "id": "86bd7dbf",
   "metadata": {},
   "outputs": [],
   "source": [
    "#### Burke - forget"
   ]
  },
  {
   "cell_type": "code",
   "execution_count": null,
   "id": "873198f7",
   "metadata": {},
   "outputs": [],
   "source": [
    "forget <- burke[ which(burke$lemma=='forget'), ]\n",
    "tree <- ctree(complementation_cxn ~ voice + anim + neg + main + cc_means + denote + length_of_clause, data=forget)\n",
    "plot(tree)"
   ]
  },
  {
   "attachments": {
    "2a-2.png": {
     "image/png": "[encoded data removed]"
    }
   },
   "cell_type": "markdown",
   "id": "c5fe6fed",
   "metadata": {},
   "source": [
    "![2a-2.png](attachment:2a-2.png)"
   ]
  },
  {
   "cell_type": "code",
   "execution_count": null,
   "id": "b8294ed2",
   "metadata": {},
   "outputs": [],
   "source": [
    "forest <- cforest(complementation_cxn ~ voice + anim + neg + main + cc_means + denote + length_of_clause, data=forget,\n",
    "                        controls=cforest_control(mtry = 7, ntree=1000))\n",
    "var <- varImp(forest)\n",
    "var_ordered <- var %>% arrange(desc(Overall))\n",
    "print(var_ordered)"
   ]
  },
  {
   "cell_type": "code",
   "execution_count": null,
   "id": "290712f2",
   "metadata": {},
   "outputs": [],
   "source": [
    "                    Overall\n",
    "denote           0.03853630\n",
    "length_of_clause 0.01332168\n",
    "voice            0.00000000\n",
    "anim             0.00000000\n",
    "neg              0.00000000\n",
    "main             0.00000000\n",
    "cc_means         0.00000000\n"
   ]
  },
  {
   "cell_type": "code",
   "execution_count": null,
   "id": "bdec6212",
   "metadata": {},
   "outputs": [],
   "source": [
    "#### Burke - remember"
   ]
  },
  {
   "cell_type": "code",
   "execution_count": null,
   "id": "954cffe6",
   "metadata": {},
   "outputs": [],
   "source": [
    "remember <- burke[ which(burke$lemma=='remember'), ]\n",
    "tree <- ctree(complementation_cxn ~ voice + anim + neg + main + cc_means + denote + length_of_clause, data=remember)\n",
    "plot(tree)"
   ]
  },
  {
   "attachments": {
    "2b-2.png": {
     "image/png": "[encoded data removed]"
    }
   },
   "cell_type": "markdown",
   "id": "2cf430f2",
   "metadata": {},
   "source": [
    "![2b-2.png](attachment:2b-2.png)"
   ]
  },
  {
   "cell_type": "code",
   "execution_count": null,
   "id": "61fd9918",
   "metadata": {},
   "outputs": [],
   "source": [
    "forest <- cforest(complementation_cxn ~ voice + anim + neg + main + cc_means + denote + length_of_clause, data=remember,\n",
    "                        controls=cforest_control(mtry = 7, ntree=1000))\n",
    "var <- varImp(forest)\n",
    "var_ordered <- var %>% arrange(desc(Overall))\n",
    "print(var_ordered)"
   ]
  },
  {
   "cell_type": "code",
   "execution_count": null,
   "id": "de8e96d3",
   "metadata": {},
   "outputs": [],
   "source": [
    "                       Overall\n",
    "denote            4.438287e-02\n",
    "main              4.024811e-02\n",
    "cc_means          1.275049e-03\n",
    "neg               6.668157e-04\n",
    "voice             2.067516e-04\n",
    "anim             -4.545455e-05\n",
    "length_of_clause -7.637976e-04\n"
   ]
  },
  {
   "cell_type": "markdown",
   "id": "ffe45311",
   "metadata": {},
   "source": [
    "### Colman"
   ]
  },
  {
   "cell_type": "code",
   "execution_count": null,
   "id": "11f641d0",
   "metadata": {},
   "outputs": [],
   "source": [
    "tree <- ctree(complementation_cxn ~ voice + anim + neg + main + cc_means + lemma + denote + length_of_clause, data=colman)\n",
    "plot(tree)"
   ]
  },
  {
   "attachments": {
    "3-2.png": {
     "image/png": "[encoded data removed]"
    }
   },
   "cell_type": "markdown",
   "id": "e65b2a91",
   "metadata": {},
   "source": [
    "![3-2.png](attachment:3-2.png)"
   ]
  },
  {
   "cell_type": "code",
   "execution_count": null,
   "id": "3912fe66",
   "metadata": {},
   "outputs": [],
   "source": [
    "forest <- cforest(complementation_cxn ~ voice + anim + neg + main + cc_means + denote + lemma + length_of_clause, data=colman,\n",
    "                        controls=cforest_control(mtry = 7, ntree=1000))\n",
    "var <- varImp(forest)\n",
    "var_ordered <- var %>% arrange(desc(Overall))\n",
    "print(var_ordered)"
   ]
  },
  {
   "cell_type": "code",
   "execution_count": null,
   "id": "fa76a88f",
   "metadata": {},
   "outputs": [],
   "source": [
    "                       Overall\n",
    "denote            1.721093e-01\n",
    "length_of_clause  9.654650e-03\n",
    "voice             7.428529e-03\n",
    "lemma             6.904676e-03\n",
    "anim              1.181610e-03\n",
    "main             -5.555556e-05\n",
    "neg              -1.290597e-04\n",
    "cc_means         -5.090077e-03\n"
   ]
  },
  {
   "cell_type": "code",
   "execution_count": null,
   "id": "9c76d46c",
   "metadata": {},
   "outputs": [],
   "source": [
    "#### Colman - forget"
   ]
  },
  {
   "cell_type": "code",
   "execution_count": null,
   "id": "7fe3469e",
   "metadata": {},
   "outputs": [],
   "source": [
    "forget <- colman[ which(colman$lemma=='forget'), ]\n",
    "tree <- ctree(complementation_cxn ~ voice + anim + neg + main + cc_means + denote + length_of_clause, data=forget)\n",
    "plot(tree)"
   ]
  },
  {
   "attachments": {
    "3a.png": {
     "image/png": "[encoded data removed]"
    }
   },
   "cell_type": "markdown",
   "id": "4ceb598a",
   "metadata": {},
   "source": [
    "![3a.png](attachment:3a.png)"
   ]
  },
  {
   "cell_type": "code",
   "execution_count": null,
   "id": "ff8b814a",
   "metadata": {},
   "outputs": [],
   "source": [
    "forest <- cforest(complementation_cxn ~ voice + anim + neg + main + cc_means + denote + length_of_clause, data=forget,\n",
    "                        controls=cforest_control(mtry = 7, ntree=1000))\n",
    "var <- varImp(forest)\n",
    "var_ordered <- var %>% arrange(desc(Overall))\n",
    "print(var_ordered)"
   ]
  },
  {
   "cell_type": "code",
   "execution_count": null,
   "id": "6cb6bd0b",
   "metadata": {},
   "outputs": [],
   "source": [
    "                 Overall\n",
    "voice                  0\n",
    "anim                   0\n",
    "neg                    0\n",
    "main                   0\n",
    "cc_means               0\n",
    "denote                 0\n",
    "length_of_clause       0\n"
   ]
  },
  {
   "cell_type": "code",
   "execution_count": null,
   "id": "bd90266a",
   "metadata": {},
   "outputs": [],
   "source": [
    "#### Colman - remember"
   ]
  },
  {
   "cell_type": "code",
   "execution_count": null,
   "id": "dda6d468",
   "metadata": {},
   "outputs": [],
   "source": [
    "remember <- colman[ which(colman$lemma=='remember'), ]\n",
    "tree <- ctree(complementation_cxn ~ voice + anim + neg + main + cc_means + denote + length_of_clause, data=remember)\n",
    "plot(tree)"
   ]
  },
  {
   "attachments": {
    "3b-2.png": {
     "image/png": "[encoded data removed]"
    }
   },
   "cell_type": "markdown",
   "id": "128aae0a",
   "metadata": {},
   "source": [
    "![3b-2.png](attachment:3b-2.png)"
   ]
  },
  {
   "cell_type": "code",
   "execution_count": null,
   "id": "0357b4e1",
   "metadata": {},
   "outputs": [],
   "source": [
    "forest <- cforest(complementation_cxn ~ voice + anim + neg + main + cc_means + denote + length_of_clause, data=remember,\n",
    "                        controls=cforest_control(mtry = 7, ntree=1000))\n",
    "var <- varImp(forest)\n",
    "var_ordered <- var %>% arrange(desc(Overall))\n",
    "print(var_ordered)"
   ]
  },
  {
   "cell_type": "code",
   "execution_count": null,
   "id": "3b7ff2c1",
   "metadata": {},
   "outputs": [],
   "source": [
    "                      Overall\n",
    "denote            0.150594974\n",
    "length_of_clause  0.005958979\n",
    "voice             0.004513484\n",
    "neg               0.000000000\n",
    "main              0.000000000\n",
    "anim             -0.001281668\n",
    "cc_means         -0.007425201\n"
   ]
  },
  {
   "cell_type": "markdown",
   "id": "6fa17bc6",
   "metadata": {},
   "source": [
    "### Cumberland"
   ]
  },
  {
   "cell_type": "code",
   "execution_count": null,
   "id": "16e0eb3e",
   "metadata": {},
   "outputs": [],
   "source": [
    "tree <- ctree(complementation_cxn ~ voice + anim + neg + main + cc_means + lemma + denote + length_of_clause, data=cumberland)\n",
    "plot(tree)"
   ]
  },
  {
   "attachments": {
    "4-2.png": {
     "image/png": "[encoded data removed]"
    }
   },
   "cell_type": "markdown",
   "id": "fb9b53d0",
   "metadata": {},
   "source": [
    "![4-2.png](attachment:4-2.png)"
   ]
  },
  {
   "cell_type": "code",
   "execution_count": null,
   "id": "33b069d0",
   "metadata": {},
   "outputs": [],
   "source": [
    "forest <- cforest(complementation_cxn ~ voice + anim + neg + main + cc_means + denote + lemma + length_of_clause, data=cumberland,\n",
    "                        controls=cforest_control(mtry = 7, ntree=1000))\n",
    "var <- varImp(forest)\n",
    "var_ordered <- var %>% arrange(desc(Overall))\n",
    "print(var_ordered)"
   ]
  },
  {
   "cell_type": "code",
   "execution_count": null,
   "id": "ebe51a76",
   "metadata": {},
   "outputs": [],
   "source": [
    "                       Overall\n",
    "denote            2.145982e-01\n",
    "lemma             8.928301e-02\n",
    "cc_means          5.234200e-02\n",
    "length_of_clause  2.116258e-03\n",
    "voice             5.667551e-04\n",
    "neg               3.742773e-04\n",
    "main              3.314659e-06\n",
    "anim             -3.281371e-03\n"
   ]
  },
  {
   "cell_type": "code",
   "execution_count": null,
   "id": "27fa4127",
   "metadata": {},
   "outputs": [],
   "source": [
    "#### Cumberland - forget"
   ]
  },
  {
   "cell_type": "code",
   "execution_count": null,
   "id": "12743e43",
   "metadata": {},
   "outputs": [],
   "source": [
    "forget <- cumberland[ which(cumberland$lemma=='forget'), ]\n",
    "tree <- ctree(complementation_cxn ~ voice + anim + neg + main + cc_means + denote + length_of_clause, data=forget)\n",
    "plot(tree)"
   ]
  },
  {
   "attachments": {
    "4a.png": {
     "image/png": "[encoded data removed]"
    }
   },
   "cell_type": "markdown",
   "id": "4228d558",
   "metadata": {},
   "source": [
    "![4a.png](attachment:4a.png)"
   ]
  },
  {
   "cell_type": "code",
   "execution_count": null,
   "id": "2d2d5ace",
   "metadata": {},
   "outputs": [],
   "source": [
    "forest <- cforest(complementation_cxn ~ voice + anim + neg + main + cc_means + denote + length_of_clause, data=forget,\n",
    "                        controls=cforest_control(mtry = 7, ntree=1000))\n",
    "var <- varImp(forest)\n",
    "var_ordered <- var %>% arrange(desc(Overall))\n",
    "print(var_ordered)"
   ]
  },
  {
   "cell_type": "code",
   "execution_count": null,
   "id": "6d9003d4",
   "metadata": {},
   "outputs": [],
   "source": [
    "                       Overall\n",
    "cc_means          0.1520231214\n",
    "denote            0.1135837657\n",
    "neg               0.0002509804\n",
    "voice             0.0000000000\n",
    "main              0.0000000000\n",
    "anim             -0.0001333333\n",
    "length_of_clause -0.0007480963\n"
   ]
  },
  {
   "cell_type": "code",
   "execution_count": null,
   "id": "7338893b",
   "metadata": {},
   "outputs": [],
   "source": [
    "#### Cumberland - remember"
   ]
  },
  {
   "cell_type": "code",
   "execution_count": null,
   "id": "f256673b",
   "metadata": {},
   "outputs": [],
   "source": [
    "remember <- cumberland[ which(cumberland$lemma=='remember'), ]\n",
    "tree <- ctree(complementation_cxn ~ voice + anim + neg + main + cc_means + denote + length_of_clause, data=remember)\n",
    "plot(tree)"
   ]
  },
  {
   "attachments": {
    "4b-2.png": {
     "image/png": "[encoded data removed]"
    }
   },
   "cell_type": "markdown",
   "id": "61680a58",
   "metadata": {},
   "source": [
    "![4b-2.png](attachment:4b-2.png)"
   ]
  },
  {
   "cell_type": "code",
   "execution_count": null,
   "id": "321f1caf",
   "metadata": {},
   "outputs": [],
   "source": [
    "forest <- cforest(complementation_cxn ~ voice + anim + neg + main + cc_means + denote + length_of_clause, data=remember,\n",
    "                        controls=cforest_control(mtry = 7, ntree=1000))\n",
    "var <- varImp(forest)\n",
    "var_ordered <- var %>% arrange(desc(Overall))\n",
    "print(var_ordered)"
   ]
  },
  {
   "cell_type": "code",
   "execution_count": null,
   "id": "6064735d",
   "metadata": {},
   "outputs": [],
   "source": [
    "                       Overall\n",
    "denote            1.746974e-01\n",
    "cc_means          9.547979e-03\n",
    "length_of_clause  2.984125e-03\n",
    "neg               1.260911e-03\n",
    "voice             4.545455e-05\n",
    "main              0.000000e+00\n",
    "anim             -4.617829e-03\n"
   ]
  },
  {
   "cell_type": "markdown",
   "id": "edfe5206",
   "metadata": {},
   "source": [
    "### Dibdin"
   ]
  },
  {
   "cell_type": "code",
   "execution_count": null,
   "id": "80aa3b92",
   "metadata": {},
   "outputs": [],
   "source": [
    "tree <- ctree(complementation_cxn ~ voice + anim + neg + main + cc_means + lemma + denote + length_of_clause, data=dibdin)\n",
    "plot(tree)"
   ]
  },
  {
   "attachments": {
    "5-2.png": {
     "image/png": "[encoded data removed]"
    }
   },
   "cell_type": "markdown",
   "id": "8ec7ef64",
   "metadata": {},
   "source": [
    "![5-2.png](attachment:5-2.png)"
   ]
  },
  {
   "cell_type": "code",
   "execution_count": null,
   "id": "d83f7df6",
   "metadata": {},
   "outputs": [],
   "source": [
    "forest <- cforest(complementation_cxn ~ voice + anim + neg + main + cc_means + denote + lemma + length_of_clause, data=dibdin,\n",
    "                        controls=cforest_control(mtry = 7, ntree=1000))\n",
    "var <- varImp(forest)\n",
    "var_ordered <- var %>% arrange(desc(Overall))\n",
    "print(var_ordered)"
   ]
  },
  {
   "cell_type": "code",
   "execution_count": null,
   "id": "6e4ce809",
   "metadata": {},
   "outputs": [],
   "source": [
    "                       Overall\n",
    "lemma             2.619525e-01\n",
    "denote            8.272903e-02\n",
    "cc_means          2.128144e-02\n",
    "length_of_clause  5.292538e-03\n",
    "anim              2.430295e-03\n",
    "neg               2.073546e-03\n",
    "main             -7.289051e-05\n",
    "voice            -3.738292e-04\n",
    "\n"
   ]
  },
  {
   "cell_type": "code",
   "execution_count": null,
   "id": "b7a6b479",
   "metadata": {},
   "outputs": [],
   "source": [
    "#### Dibdin - forget"
   ]
  },
  {
   "cell_type": "code",
   "execution_count": null,
   "id": "ea71a2fc",
   "metadata": {},
   "outputs": [],
   "source": [
    "forget <- dibdin[ which(dibdin$lemma=='forget'), ]\n",
    "tree <- ctree(complementation_cxn ~ voice + anim + neg + main + cc_means + denote + length_of_clause, data=forget)\n",
    "plot(tree)"
   ]
  },
  {
   "attachments": {
    "5a.png": {
     "image/png": "[encoded data removed]"
    }
   },
   "cell_type": "markdown",
   "id": "a8deca78",
   "metadata": {},
   "source": [
    "![5a.png](attachment:5a.png)"
   ]
  },
  {
   "cell_type": "code",
   "execution_count": null,
   "id": "0cf6a522",
   "metadata": {},
   "outputs": [],
   "source": [
    "forest <- cforest(complementation_cxn ~ voice + anim + neg + main + cc_means + denote + length_of_clause, data=forget,\n",
    "                        controls=cforest_control(mtry = 7, ntree=1000))\n",
    "var <- varImp(forest)\n",
    "var_ordered <- var %>% arrange(desc(Overall))\n",
    "print(var_ordered)"
   ]
  },
  {
   "cell_type": "code",
   "execution_count": null,
   "id": "c02e08bf",
   "metadata": {},
   "outputs": [],
   "source": [
    "                     Overall\n",
    "denote           0.193408108\n",
    "cc_means         0.055806453\n",
    "length_of_clause 0.001947430\n",
    "anim             0.001313690\n",
    "neg              0.001022156\n",
    "voice            0.000000000\n",
    "main             0.000000000\n"
   ]
  },
  {
   "cell_type": "code",
   "execution_count": null,
   "id": "5dc58208",
   "metadata": {},
   "outputs": [],
   "source": [
    "#### Dibdin - remember"
   ]
  },
  {
   "cell_type": "code",
   "execution_count": null,
   "id": "e928559d",
   "metadata": {},
   "outputs": [],
   "source": [
    "remember <- dibdin[ which(dibdin$lemma=='remember'), ]\n",
    "tree <- ctree(complementation_cxn ~ voice + anim + neg + main + cc_means + denote + length_of_clause, data=remember)\n",
    "plot(tree)"
   ]
  },
  {
   "attachments": {
    "5b-2.png": {
     "image/png": "[encoded data removed]"
    }
   },
   "cell_type": "markdown",
   "id": "bf0f8e6e",
   "metadata": {},
   "source": [
    "![5b-2.png](attachment:5b-2.png)"
   ]
  },
  {
   "cell_type": "code",
   "execution_count": null,
   "id": "74e04a4c",
   "metadata": {},
   "outputs": [],
   "source": [
    "forest <- cforest(complementation_cxn ~ voice + anim + neg + main + cc_means + denote + length_of_clause, data=remember,\n",
    "                        controls=cforest_control(mtry = 7, ntree=1000))\n",
    "var <- varImp(forest)\n",
    "var_ordered <- var %>% arrange(desc(Overall))\n",
    "print(var_ordered)"
   ]
  },
  {
   "cell_type": "code",
   "execution_count": null,
   "id": "22ff1a5d",
   "metadata": {},
   "outputs": [],
   "source": [
    "                       Overall\n",
    "length_of_clause  1.143091e-02\n",
    "neg               1.335770e-03\n",
    "cc_means          6.782235e-05\n",
    "main              0.000000e+00\n",
    "anim             -4.047093e-04\n",
    "denote           -7.920720e-04\n",
    "voice            -8.244152e-04\n"
   ]
  },
  {
   "cell_type": "markdown",
   "id": "516dd8c7",
   "metadata": {},
   "source": [
    "### Gibbon"
   ]
  },
  {
   "cell_type": "code",
   "execution_count": null,
   "id": "297d6fdb",
   "metadata": {},
   "outputs": [],
   "source": [
    "tree <- ctree(complementation_cxn ~ voice + anim + neg + main + cc_means + lemma + denote + length_of_clause, data=gibbon)\n",
    "plot(tree)"
   ]
  },
  {
   "attachments": {
    "6-2.png": {
     "image/png": "[encoded data removed]"
    }
   },
   "cell_type": "markdown",
   "id": "03b7eb10",
   "metadata": {},
   "source": [
    "![6-2.png](attachment:6-2.png)"
   ]
  },
  {
   "cell_type": "code",
   "execution_count": null,
   "id": "2e3aa126",
   "metadata": {},
   "outputs": [],
   "source": [
    "forest <- cforest(complementation_cxn ~ voice + anim + neg + main + cc_means + denote + lemma + length_of_clause, data=gibbon,\n",
    "                        controls=cforest_control(mtry = 7, ntree=1000))\n",
    "var <- varImp(forest)\n",
    "var_ordered <- var %>% arrange(desc(Overall))\n",
    "print(var_ordered)"
   ]
  },
  {
   "cell_type": "code",
   "execution_count": null,
   "id": "98a6f971",
   "metadata": {},
   "outputs": [],
   "source": [
    "                      Overall\n",
    "denote           1.831795e-01\n",
    "lemma            3.984579e-02\n",
    "cc_means         1.506012e-02\n",
    "length_of_clause 5.748252e-03\n",
    "voice            1.997243e-03\n",
    "anim             9.285714e-05\n",
    "neg              8.333333e-05\n",
    "main             0.000000e+00\n"
   ]
  },
  {
   "cell_type": "code",
   "execution_count": null,
   "id": "0cc18ac5",
   "metadata": {},
   "outputs": [],
   "source": [
    "#### Gibbon - forget"
   ]
  },
  {
   "cell_type": "code",
   "execution_count": null,
   "id": "b8d0a86f",
   "metadata": {},
   "outputs": [],
   "source": [
    "forget <- gibbon[ which(gibbon$lemma=='forget'), ]\n",
    "tree <- ctree(complementation_cxn ~ voice + anim + neg + main + cc_means + denote + length_of_clause, data=forget)\n",
    "plot(tree)"
   ]
  },
  {
   "attachments": {
    "6a.png": {
     "image/png": "[encoded data removed]"
    }
   },
   "cell_type": "markdown",
   "id": "2372cff9",
   "metadata": {},
   "source": [
    "![6a.png](attachment:6a.png)"
   ]
  },
  {
   "cell_type": "code",
   "execution_count": null,
   "id": "39a42e6b",
   "metadata": {},
   "outputs": [],
   "source": [
    "forest <- cforest(complementation_cxn ~ voice + anim + neg + main + cc_means + denote + length_of_clause, data=forget,\n",
    "                        controls=cforest_control(mtry = 7, ntree=1000))\n",
    "var <- varImp(forest)\n",
    "var_ordered <- var %>% arrange(desc(Overall))\n",
    "print(var_ordered)"
   ]
  },
  {
   "cell_type": "code",
   "execution_count": null,
   "id": "1ca450e1",
   "metadata": {},
   "outputs": [],
   "source": [
    "                      Overall\n",
    "denote           0.3572617660\n",
    "cc_means         0.0074366300\n",
    "length_of_clause 0.0002388889\n",
    "voice            0.0000000000\n",
    "anim             0.0000000000\n",
    "neg              0.0000000000\n",
    "main             0.0000000000\n"
   ]
  },
  {
   "cell_type": "code",
   "execution_count": null,
   "id": "4a116d2a",
   "metadata": {},
   "outputs": [],
   "source": [
    "#### Gibbon - remember"
   ]
  },
  {
   "cell_type": "code",
   "execution_count": null,
   "id": "4259757c",
   "metadata": {},
   "outputs": [],
   "source": [
    "remember <- gibbon[ which(gibbon$lemma=='remember'), ]\n",
    "tree <- ctree(complementation_cxn ~ voice + anim + neg + main + cc_means + denote + length_of_clause, data=remember)\n",
    "plot(tree)"
   ]
  },
  {
   "attachments": {
    "6b-2.png": {
     "image/png": "[encoded data removed]"
    }
   },
   "cell_type": "markdown",
   "id": "e35d1b21",
   "metadata": {},
   "source": [
    "![6b-2.png](attachment:6b-2.png)"
   ]
  },
  {
   "cell_type": "code",
   "execution_count": null,
   "id": "470def15",
   "metadata": {},
   "outputs": [],
   "source": [
    "forest <- cforest(complementation_cxn ~ voice + anim + neg + main + cc_means + denote + length_of_clause, data=remember,\n",
    "                        controls=cforest_control(mtry = 7, ntree=1000))\n",
    "var <- varImp(forest)\n",
    "var_ordered <- var %>% arrange(desc(Overall))\n",
    "print(var_ordered)"
   ]
  },
  {
   "cell_type": "code",
   "execution_count": null,
   "id": "5f5ccf18",
   "metadata": {},
   "outputs": [],
   "source": [
    "                       Overall\n",
    "denote            0.0161505384\n",
    "neg               0.0008290404\n",
    "length_of_clause  0.0005893939\n",
    "voice             0.0004333333\n",
    "main              0.0000000000\n",
    "anim             -0.0003333333\n",
    "cc_means         -0.0015585859\n"
   ]
  },
  {
   "cell_type": "markdown",
   "id": "81ebbb97",
   "metadata": {},
   "source": [
    "### Richardson"
   ]
  },
  {
   "cell_type": "code",
   "execution_count": null,
   "id": "160ac5e9",
   "metadata": {},
   "outputs": [],
   "source": [
    "tree <- ctree(complementation_cxn ~ voice + anim + neg + main + cc_means + lemma + denote + length_of_clause, data=richardson)\n",
    "plot(tree)"
   ]
  },
  {
   "attachments": {
    "7-2.png": {
     "image/png": "[encoded data removed]"
    }
   },
   "cell_type": "markdown",
   "id": "0aef65f7",
   "metadata": {},
   "source": [
    "![7-2.png](attachment:7-2.png)"
   ]
  },
  {
   "cell_type": "code",
   "execution_count": null,
   "id": "10d7bafe",
   "metadata": {},
   "outputs": [],
   "source": [
    "forest <- cforest(complementation_cxn ~ voice + anim + neg + main + cc_means + denote + lemma + length_of_clause, data=richardson,\n",
    "                        controls=cforest_control(mtry = 7, ntree=1000))\n",
    "var <- varImp(forest)\n",
    "var_ordered <- var %>% arrange(desc(Overall))\n",
    "print(var_ordered)"
   ]
  },
  {
   "cell_type": "code",
   "execution_count": null,
   "id": "433d217c",
   "metadata": {},
   "outputs": [],
   "source": [
    "                     Overall\n",
    "lemma            0.104343105\n",
    "cc_means         0.034642664\n",
    "denote           0.019945524\n",
    "length_of_clause 0.014047734\n",
    "neg              0.009683384\n",
    "anim             0.009663680\n",
    "main             0.005263528\n",
    "voice            0.000000000\n"
   ]
  },
  {
   "cell_type": "code",
   "execution_count": null,
   "id": "95b7ec2d",
   "metadata": {},
   "outputs": [],
   "source": [
    "#### Richardson - forget"
   ]
  },
  {
   "cell_type": "code",
   "execution_count": null,
   "id": "c384ae50",
   "metadata": {},
   "outputs": [],
   "source": [
    "forget <- richardson[ which(richardson$lemma=='forget'), ]\n",
    "\n",
    "tree <- ctree(complementation_cxn ~ voice + anim + neg + main + cc_means + denote + length_of_clause, data=forget)\n",
    "plot(tree)"
   ]
  },
  {
   "attachments": {
    "7a.png": {
     "image/png": "[encoded data removed]"
    }
   },
   "cell_type": "markdown",
   "id": "3351e043",
   "metadata": {},
   "source": [
    "![7a.png](attachment:7a.png)"
   ]
  },
  {
   "cell_type": "code",
   "execution_count": null,
   "id": "4f6f9b2a",
   "metadata": {},
   "outputs": [],
   "source": [
    "forest <- cforest(complementation_cxn ~ voice + anim + neg + main + cc_means + denote + length_of_clause, data=forget,\n",
    "                        controls=cforest_control(mtry = 7, ntree=1000))\n",
    "var <- varImp(forest)\n",
    "var_ordered <- var %>% arrange(desc(Overall))\n",
    "print(var_ordered)"
   ]
  },
  {
   "cell_type": "code",
   "execution_count": null,
   "id": "ac482f1a",
   "metadata": {},
   "outputs": [],
   "source": [
    "                      Overall\n",
    "cc_means          0.149861096\n",
    "neg               0.058644134\n",
    "denote            0.041413867\n",
    "voice             0.000000000\n",
    "anim              0.000000000\n",
    "main              0.000000000\n",
    "length_of_clause -0.002069366\n"
   ]
  },
  {
   "cell_type": "code",
   "execution_count": null,
   "id": "2733535b",
   "metadata": {},
   "outputs": [],
   "source": [
    "#### Richardson - remember"
   ]
  },
  {
   "cell_type": "code",
   "execution_count": null,
   "id": "88fb20c3",
   "metadata": {},
   "outputs": [],
   "source": [
    "remember <- richardson[ which(richardson$lemma=='remember'), ]\n",
    "tree <- ctree(complementation_cxn ~ voice + anim + neg + main + cc_means + denote + length_of_clause, data=remember)\n",
    "plot(tree)"
   ]
  },
  {
   "attachments": {
    "7b-2.png": {
     "image/png": "[encoded data removed]"
    }
   },
   "cell_type": "markdown",
   "id": "804c3f1f",
   "metadata": {},
   "source": [
    "![7b-2.png](attachment:7b-2.png)"
   ]
  },
  {
   "cell_type": "code",
   "execution_count": null,
   "id": "4c05eb39",
   "metadata": {},
   "outputs": [],
   "source": [
    "forest <- cforest(complementation_cxn ~ voice + anim + neg + main + cc_means + denote + length_of_clause, data=remember,\n",
    "                        controls=cforest_control(mtry = 7, ntree=1000))\n",
    "var <- varImp(forest)\n",
    "var_ordered <- var %>% arrange(desc(Overall))\n",
    "print(var_ordered)"
   ]
  },
  {
   "cell_type": "code",
   "execution_count": null,
   "id": "a3cbd48d",
   "metadata": {},
   "outputs": [],
   "source": [
    "                       Overall\n",
    "length_of_clause  1.840012e-02\n",
    "anim              1.017405e-02\n",
    "main              1.039020e-03\n",
    "voice            -3.252247e-05\n",
    "neg              -1.506550e-03\n",
    "cc_means         -3.444449e-03\n",
    "denote           -3.979251e-03\n"
   ]
  },
  {
   "cell_type": "markdown",
   "id": "257f44c5",
   "metadata": {},
   "source": [
    "### Trusler"
   ]
  },
  {
   "cell_type": "code",
   "execution_count": null,
   "id": "5311ca8b",
   "metadata": {},
   "outputs": [],
   "source": [
    "tree <- ctree(complementation_cxn ~ voice + anim + neg + main + cc_means + lemma + denote + length_of_clause, data=trusler)\n",
    "plot(tree)"
   ]
  },
  {
   "attachments": {
    "8-2.png": {
     "image/png": "[encoded data removed]"
    }
   },
   "cell_type": "markdown",
   "id": "e5713fc8",
   "metadata": {},
   "source": [
    "![8-2.png](attachment:8-2.png)"
   ]
  },
  {
   "cell_type": "code",
   "execution_count": null,
   "id": "dbe40534",
   "metadata": {},
   "outputs": [],
   "source": [
    "forest <- cforest(complementation_cxn ~ voice + anim + neg + main + cc_means + denote + lemma + length_of_clause, data=trusler,\n",
    "                        controls=cforest_control(mtry = 7, ntree=1000))\n",
    "var <- varImp(forest)\n",
    "var_ordered <- var %>% arrange(desc(Overall))\n",
    "print(var_ordered)"
   ]
  },
  {
   "cell_type": "code",
   "execution_count": null,
   "id": "e24ccec3",
   "metadata": {},
   "outputs": [],
   "source": [
    "                       Overall\n",
    "denote            0.0788713444\n",
    "lemma             0.0700751380\n",
    "anim              0.0544161981\n",
    "main              0.0379377645\n",
    "cc_means          0.0253429178\n",
    "voice             0.0004203405\n",
    "length_of_clause -0.0001931608\n",
    "neg              -0.0002019039\n",
    "\n"
   ]
  },
  {
   "cell_type": "code",
   "execution_count": null,
   "id": "449ce67e",
   "metadata": {},
   "outputs": [],
   "source": [
    "#### Trusler - forget"
   ]
  },
  {
   "cell_type": "code",
   "execution_count": null,
   "id": "fadf318e",
   "metadata": {},
   "outputs": [],
   "source": [
    "forget <- trusler[ which(trusler$lemma=='forget'), ]\n",
    "tree <- ctree(complementation_cxn ~ voice + anim + neg + main + cc_means + denote + length_of_clause, data=forget)\n",
    "plot(tree)"
   ]
  },
  {
   "attachments": {
    "8a.png": {
     "image/png": "[encoded data removed]"
    }
   },
   "cell_type": "markdown",
   "id": "8804f32a",
   "metadata": {},
   "source": [
    "![8a.png](attachment:8a.png)"
   ]
  },
  {
   "cell_type": "code",
   "execution_count": null,
   "id": "ade5abc7",
   "metadata": {},
   "outputs": [],
   "source": [
    "forest <- cforest(complementation_cxn ~ voice + anim + neg + main + cc_means + denote + length_of_clause, data=forget,\n",
    "                        controls=cforest_control(mtry = 7, ntree=1000))\n",
    "var <- varImp(forest)\n",
    "var_ordered <- var %>% arrange(desc(Overall))\n",
    "print(var_ordered)"
   ]
  },
  {
   "cell_type": "code",
   "execution_count": null,
   "id": "47101630",
   "metadata": {},
   "outputs": [],
   "source": [
    "                      Overall\n",
    "cc_means         0.2799918831\n",
    "denote           0.0116386169\n",
    "neg              0.0018082945\n",
    "anim             0.0001111111\n",
    "voice            0.0000000000\n",
    "main             0.0000000000\n",
    "length_of_clause 0.0000000000\n"
   ]
  },
  {
   "cell_type": "code",
   "execution_count": null,
   "id": "4bfe2ed2",
   "metadata": {},
   "outputs": [],
   "source": [
    "#### Trusler - remember"
   ]
  },
  {
   "cell_type": "code",
   "execution_count": null,
   "id": "7c7eed11",
   "metadata": {},
   "outputs": [],
   "source": [
    "remember <- trusler[ which(trusler$lemma=='remember'), ]\n",
    "tree <- ctree(complementation_cxn ~ voice + anim + neg + main + cc_means + denote + length_of_clause, data=remember)\n",
    "plot(tree)"
   ]
  },
  {
   "attachments": {
    "8b-2.png": {
     "image/png": "[encoded data removed]"
    }
   },
   "cell_type": "markdown",
   "id": "7c929d48",
   "metadata": {},
   "source": [
    "![8b-2.png](attachment:8b-2.png)"
   ]
  },
  {
   "cell_type": "code",
   "execution_count": null,
   "id": "b51be2a4",
   "metadata": {},
   "outputs": [],
   "source": [
    "forest <- cforest(complementation_cxn ~ voice + anim + neg + main + cc_means + denote + length_of_clause, data=remember,\n",
    "                        controls=cforest_control(mtry = 7, ntree=1000))\n",
    "var <- varImp(forest)\n",
    "var_ordered <- var %>% arrange(desc(Overall))\n",
    "print(var_ordered)"
   ]
  },
  {
   "cell_type": "code",
   "execution_count": null,
   "id": "35cdbade",
   "metadata": {},
   "outputs": [],
   "source": [
    "                       Overall\n",
    "anim              8.482607e-02\n",
    "denote            4.638364e-02\n",
    "main              4.909451e-03\n",
    "voice             7.142857e-05\n",
    "length_of_clause -3.351666e-03\n",
    "neg              -4.261532e-03\n",
    "cc_means         -5.957008e-03\n"
   ]
  }
 ],
 "metadata": {
  "kernelspec": {
   "display_name": "R",
   "language": "R",
   "name": "ir"
  },
  "language_info": {
   "codemirror_mode": "r",
   "file_extension": ".r",
   "mimetype": "text/x-r-source",
   "name": "R",
   "pygments_lexer": "r",
   "version": "3.6.1"
  }
 },
 "nbformat": 4,
 "nbformat_minor": 5
}
